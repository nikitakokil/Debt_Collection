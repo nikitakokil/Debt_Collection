{
 "cells": [
  {
   "cell_type": "code",
   "execution_count": 3,
   "id": "05a9a5cb",
   "metadata": {},
   "outputs": [],
   "source": [
    "import numpy as np\n",
    "\n",
    "import pandas as pd\n",
    "import seaborn as sns_raw\n",
    "import matplotlib.pyplot as plt\n",
    "\n",
    "import warnings\n",
    "warnings.filterwarnings('ignore')\n",
    "\n",
    "from sklearn.preprocessing import MinMaxScaler\n",
    "from sklearn.impute import SimpleImputer\n",
    "from sklearn import metrics\n",
    "from sklearn.metrics import roc_auc_score, roc_curve, accuracy_score, confusion_matrix, classification_report, plot_confusion_matrix\n",
    "from sklearn.model_selection import cross_val_score, train_test_split, StratifiedKFold, RandomizedSearchCV, GridSearchCV, cross_val_predict\n",
    "from sklearn.datasets import make_classification\n",
    "from sklearn.ensemble import RandomForestClassifier\n",
    "from sklearn.linear_model import LogisticRegression\n",
    "from sklearn.svm import SVC\n",
    "from sklearn.utils import shuffle"
   ]
  },
  {
   "cell_type": "code",
   "execution_count": 4,
   "id": "0c58851a",
   "metadata": {
    "scrolled": true
   },
   "outputs": [
    {
     "data": {
      "text/html": [
       "<div>\n",
       "<style scoped>\n",
       "    .dataframe tbody tr th:only-of-type {\n",
       "        vertical-align: middle;\n",
       "    }\n",
       "\n",
       "    .dataframe tbody tr th {\n",
       "        vertical-align: top;\n",
       "    }\n",
       "\n",
       "    .dataframe thead th {\n",
       "        text-align: right;\n",
       "    }\n",
       "</style>\n",
       "<table border=\"1\" class=\"dataframe\">\n",
       "  <thead>\n",
       "    <tr style=\"text-align: right;\">\n",
       "      <th></th>\n",
       "      <th>EntityID</th>\n",
       "      <th>OriginalCreditor[Redacted]</th>\n",
       "      <th>AccountID</th>\n",
       "      <th>CurrentBalance</th>\n",
       "      <th>DebtLoadPrincipal</th>\n",
       "      <th>BalanceAtDebtLoad</th>\n",
       "      <th>PurchasePrice</th>\n",
       "      <th>ProductOrDebtType</th>\n",
       "      <th>CollectionStatus</th>\n",
       "      <th>IsStatBarred</th>\n",
       "      <th>...</th>\n",
       "      <th>LastPaymentMethod</th>\n",
       "      <th>NumLiableParties</th>\n",
       "      <th>CustomerAge</th>\n",
       "      <th>NumPhones</th>\n",
       "      <th>NumEmails</th>\n",
       "      <th>NumAddresses</th>\n",
       "      <th>Unnamed: 22</th>\n",
       "      <th>Unnamed: 23</th>\n",
       "      <th>Unnamed: 24</th>\n",
       "      <th>Unnamed: 25</th>\n",
       "    </tr>\n",
       "  </thead>\n",
       "  <tbody>\n",
       "    <tr>\n",
       "      <th>0</th>\n",
       "      <td>932</td>\n",
       "      <td>Creditor 1</td>\n",
       "      <td>3677</td>\n",
       "      <td>0.0</td>\n",
       "      <td>1160.20</td>\n",
       "      <td>1160.20</td>\n",
       "      <td>4.22</td>\n",
       "      <td>Other</td>\n",
       "      <td>PAID_IN_FULL</td>\n",
       "      <td>N</td>\n",
       "      <td>...</td>\n",
       "      <td>Cheque</td>\n",
       "      <td>1.0</td>\n",
       "      <td>53.0</td>\n",
       "      <td>0</td>\n",
       "      <td>0</td>\n",
       "      <td>1</td>\n",
       "      <td>NaN</td>\n",
       "      <td>NaN</td>\n",
       "      <td>NaN</td>\n",
       "      <td>NaN</td>\n",
       "    </tr>\n",
       "    <tr>\n",
       "      <th>1</th>\n",
       "      <td>160</td>\n",
       "      <td>Creditor 2</td>\n",
       "      <td>4276</td>\n",
       "      <td>182.9</td>\n",
       "      <td>182.90</td>\n",
       "      <td>182.90</td>\n",
       "      <td>4.22</td>\n",
       "      <td>Other</td>\n",
       "      <td>CANCELLED_WITHDRAWN</td>\n",
       "      <td>Y</td>\n",
       "      <td>...</td>\n",
       "      <td>NaN</td>\n",
       "      <td>1.0</td>\n",
       "      <td>NaN</td>\n",
       "      <td>0</td>\n",
       "      <td>0</td>\n",
       "      <td>1</td>\n",
       "      <td>NaN</td>\n",
       "      <td>NaN</td>\n",
       "      <td>NaN</td>\n",
       "      <td>NaN</td>\n",
       "    </tr>\n",
       "    <tr>\n",
       "      <th>2</th>\n",
       "      <td>932</td>\n",
       "      <td>Creditor 1</td>\n",
       "      <td>8525</td>\n",
       "      <td>0.0</td>\n",
       "      <td>538.57</td>\n",
       "      <td>538.57</td>\n",
       "      <td>4.22</td>\n",
       "      <td>Other</td>\n",
       "      <td>PAID_IN_FULL</td>\n",
       "      <td>N</td>\n",
       "      <td>...</td>\n",
       "      <td>Cheque</td>\n",
       "      <td>1.0</td>\n",
       "      <td>NaN</td>\n",
       "      <td>1</td>\n",
       "      <td>0</td>\n",
       "      <td>1</td>\n",
       "      <td>NaN</td>\n",
       "      <td>NaN</td>\n",
       "      <td>NaN</td>\n",
       "      <td>NaN</td>\n",
       "    </tr>\n",
       "    <tr>\n",
       "      <th>3</th>\n",
       "      <td>160</td>\n",
       "      <td>Creditor 2</td>\n",
       "      <td>9859</td>\n",
       "      <td>8279.5</td>\n",
       "      <td>8279.50</td>\n",
       "      <td>8279.50</td>\n",
       "      <td>4.22</td>\n",
       "      <td>Other</td>\n",
       "      <td>PASSIVE</td>\n",
       "      <td>Y</td>\n",
       "      <td>...</td>\n",
       "      <td>NaN</td>\n",
       "      <td>1.0</td>\n",
       "      <td>NaN</td>\n",
       "      <td>1</td>\n",
       "      <td>0</td>\n",
       "      <td>1</td>\n",
       "      <td>NaN</td>\n",
       "      <td>NaN</td>\n",
       "      <td>NaN</td>\n",
       "      <td>NaN</td>\n",
       "    </tr>\n",
       "    <tr>\n",
       "      <th>4</th>\n",
       "      <td>932</td>\n",
       "      <td>Creditor 1</td>\n",
       "      <td>12807</td>\n",
       "      <td>0.0</td>\n",
       "      <td>523.00</td>\n",
       "      <td>523.00</td>\n",
       "      <td>4.22</td>\n",
       "      <td>Other</td>\n",
       "      <td>PAID_IN_FULL</td>\n",
       "      <td>Y</td>\n",
       "      <td>...</td>\n",
       "      <td>Cheque</td>\n",
       "      <td>1.0</td>\n",
       "      <td>46.0</td>\n",
       "      <td>2</td>\n",
       "      <td>0</td>\n",
       "      <td>1</td>\n",
       "      <td>NaN</td>\n",
       "      <td>NaN</td>\n",
       "      <td>NaN</td>\n",
       "      <td>NaN</td>\n",
       "    </tr>\n",
       "  </tbody>\n",
       "</table>\n",
       "<p>5 rows × 26 columns</p>\n",
       "</div>"
      ],
      "text/plain": [
       "   EntityID OriginalCreditor[Redacted]  AccountID  CurrentBalance  \\\n",
       "0       932                 Creditor 1       3677             0.0   \n",
       "1       160                 Creditor 2       4276           182.9   \n",
       "2       932                 Creditor 1       8525             0.0   \n",
       "3       160                 Creditor 2       9859          8279.5   \n",
       "4       932                 Creditor 1      12807             0.0   \n",
       "\n",
       "   DebtLoadPrincipal  BalanceAtDebtLoad  PurchasePrice ProductOrDebtType  \\\n",
       "0            1160.20            1160.20           4.22             Other   \n",
       "1             182.90             182.90           4.22             Other   \n",
       "2             538.57             538.57           4.22             Other   \n",
       "3            8279.50            8279.50           4.22             Other   \n",
       "4             523.00             523.00           4.22             Other   \n",
       "\n",
       "      CollectionStatus IsStatBarred  ... LastPaymentMethod NumLiableParties  \\\n",
       "0         PAID_IN_FULL            N  ...            Cheque              1.0   \n",
       "1  CANCELLED_WITHDRAWN            Y  ...               NaN              1.0   \n",
       "2         PAID_IN_FULL            N  ...            Cheque              1.0   \n",
       "3              PASSIVE            Y  ...               NaN              1.0   \n",
       "4         PAID_IN_FULL            Y  ...            Cheque              1.0   \n",
       "\n",
       "  CustomerAge NumPhones NumEmails  NumAddresses Unnamed: 22  Unnamed: 23  \\\n",
       "0        53.0         0         0             1         NaN          NaN   \n",
       "1         NaN         0         0             1         NaN          NaN   \n",
       "2         NaN         1         0             1         NaN          NaN   \n",
       "3         NaN         1         0             1         NaN          NaN   \n",
       "4        46.0         2         0             1         NaN          NaN   \n",
       "\n",
       "   Unnamed: 24  Unnamed: 25  \n",
       "0          NaN          NaN  \n",
       "1          NaN          NaN  \n",
       "2          NaN          NaN  \n",
       "3          NaN          NaN  \n",
       "4          NaN          NaN  \n",
       "\n",
       "[5 rows x 26 columns]"
      ]
     },
     "execution_count": 4,
     "metadata": {},
     "output_type": "execute_result"
    }
   ],
   "source": [
    "# Reading the dataset\n",
    "df_raw = pd.read_excel(\"Company_x.xlsx\", sheet_name=\"Debtbook\")\n",
    "df_raw.head()"
   ]
  },
  {
   "cell_type": "code",
   "execution_count": 5,
   "id": "f2aadd64",
   "metadata": {},
   "outputs": [
    {
     "ename": "AttributeError",
     "evalue": "'DataFrame' object has no attribute 'descibe'",
     "output_type": "error",
     "traceback": [
      "\u001b[1;31m---------------------------------------------------------------------------\u001b[0m",
      "\u001b[1;31mAttributeError\u001b[0m                            Traceback (most recent call last)",
      "Input \u001b[1;32mIn [5]\u001b[0m, in \u001b[0;36m<cell line: 1>\u001b[1;34m()\u001b[0m\n\u001b[1;32m----> 1\u001b[0m \u001b[43mdf_raw\u001b[49m\u001b[38;5;241;43m.\u001b[39;49m\u001b[43mdescibe\u001b[49m()\n",
      "File \u001b[1;32m~\\Anaconda3\\lib\\site-packages\\pandas\\core\\generic.py:5575\u001b[0m, in \u001b[0;36mNDFrame.__getattr__\u001b[1;34m(self, name)\u001b[0m\n\u001b[0;32m   5568\u001b[0m \u001b[38;5;28;01mif\u001b[39;00m (\n\u001b[0;32m   5569\u001b[0m     name \u001b[38;5;129;01mnot\u001b[39;00m \u001b[38;5;129;01min\u001b[39;00m \u001b[38;5;28mself\u001b[39m\u001b[38;5;241m.\u001b[39m_internal_names_set\n\u001b[0;32m   5570\u001b[0m     \u001b[38;5;129;01mand\u001b[39;00m name \u001b[38;5;129;01mnot\u001b[39;00m \u001b[38;5;129;01min\u001b[39;00m \u001b[38;5;28mself\u001b[39m\u001b[38;5;241m.\u001b[39m_metadata\n\u001b[0;32m   5571\u001b[0m     \u001b[38;5;129;01mand\u001b[39;00m name \u001b[38;5;129;01mnot\u001b[39;00m \u001b[38;5;129;01min\u001b[39;00m \u001b[38;5;28mself\u001b[39m\u001b[38;5;241m.\u001b[39m_accessors\n\u001b[0;32m   5572\u001b[0m     \u001b[38;5;129;01mand\u001b[39;00m \u001b[38;5;28mself\u001b[39m\u001b[38;5;241m.\u001b[39m_info_axis\u001b[38;5;241m.\u001b[39m_can_hold_identifiers_and_holds_name(name)\n\u001b[0;32m   5573\u001b[0m ):\n\u001b[0;32m   5574\u001b[0m     \u001b[38;5;28;01mreturn\u001b[39;00m \u001b[38;5;28mself\u001b[39m[name]\n\u001b[1;32m-> 5575\u001b[0m \u001b[38;5;28;01mreturn\u001b[39;00m \u001b[38;5;28;43mobject\u001b[39;49m\u001b[38;5;241;43m.\u001b[39;49m\u001b[38;5;21;43m__getattribute__\u001b[39;49m\u001b[43m(\u001b[49m\u001b[38;5;28;43mself\u001b[39;49m\u001b[43m,\u001b[49m\u001b[43m \u001b[49m\u001b[43mname\u001b[49m\u001b[43m)\u001b[49m\n",
      "\u001b[1;31mAttributeError\u001b[0m: 'DataFrame' object has no attribute 'descibe'"
     ]
    }
   ],
   "source": [
    "df_raw.descibe()"
   ]
  },
  {
   "cell_type": "code",
   "execution_count": 3,
   "id": "93bde486",
   "metadata": {},
   "outputs": [
    {
     "name": "stdout",
     "output_type": "stream",
     "text": [
      "<class 'pandas.core.frame.DataFrame'>\n",
      "RangeIndex: 406423 entries, 0 to 406422\n",
      "Data columns (total 26 columns):\n",
      " #   Column                      Non-Null Count   Dtype  \n",
      "---  ------                      --------------   -----  \n",
      " 0   EntityID                    406423 non-null  int64  \n",
      " 1   OriginalCreditor[Redacted]  406423 non-null  object \n",
      " 2   AccountID                   406423 non-null  int64  \n",
      " 3   CurrentBalance              406423 non-null  float64\n",
      " 4   DebtLoadPrincipal           406423 non-null  float64\n",
      " 5   BalanceAtDebtLoad           406423 non-null  float64\n",
      " 6   PurchasePrice               403731 non-null  float64\n",
      " 7   ProductOrDebtType           406423 non-null  object \n",
      " 8   CollectionStatus            406423 non-null  object \n",
      " 9   IsStatBarred                406423 non-null  object \n",
      " 10  ClosureReason               9030 non-null    object \n",
      " 11  InBankruptcy                406423 non-null  object \n",
      " 12  AccountInsolvencyType       285 non-null     object \n",
      " 13  CustomerInsolvencyType      8531 non-null    object \n",
      " 14  IsLegal                     406423 non-null  object \n",
      " 15  LastPaymentAmount           103977 non-null  float64\n",
      " 16  LastPaymentMethod           103977 non-null  object \n",
      " 17  NumLiableParties            406301 non-null  float64\n",
      " 18  CustomerAge                 376941 non-null  float64\n",
      " 19  NumPhones                   406423 non-null  int64  \n",
      " 20  NumEmails                   406423 non-null  int64  \n",
      " 21  NumAddresses                406423 non-null  int64  \n",
      " 22  Unnamed: 22                 0 non-null       float64\n",
      " 23  Unnamed: 23                 0 non-null       float64\n",
      " 24  Unnamed: 24                 0 non-null       float64\n",
      " 25  Unnamed: 25                 1 non-null       float64\n",
      "dtypes: float64(11), int64(5), object(10)\n",
      "memory usage: 80.6+ MB\n"
     ]
    }
   ],
   "source": [
    "df_raw.info()"
   ]
  },
  {
   "cell_type": "code",
   "execution_count": 4,
   "id": "0708e920",
   "metadata": {},
   "outputs": [
    {
     "data": {
      "text/plain": [
       "EntityID                        int64\n",
       "OriginalCreditor[Redacted]     object\n",
       "AccountID                       int64\n",
       "CurrentBalance                float64\n",
       "DebtLoadPrincipal             float64\n",
       "BalanceAtDebtLoad             float64\n",
       "PurchasePrice                 float64\n",
       "ProductOrDebtType              object\n",
       "CollectionStatus               object\n",
       "IsStatBarred                   object\n",
       "ClosureReason                  object\n",
       "InBankruptcy                   object\n",
       "AccountInsolvencyType          object\n",
       "CustomerInsolvencyType         object\n",
       "IsLegal                        object\n",
       "LastPaymentAmount             float64\n",
       "LastPaymentMethod              object\n",
       "NumLiableParties              float64\n",
       "CustomerAge                   float64\n",
       "NumPhones                       int64\n",
       "NumEmails                       int64\n",
       "NumAddresses                    int64\n",
       "Unnamed: 22                   float64\n",
       "Unnamed: 23                   float64\n",
       "Unnamed: 24                   float64\n",
       "Unnamed: 25                   float64\n",
       "dtype: object"
      ]
     },
     "execution_count": 4,
     "metadata": {},
     "output_type": "execute_result"
    }
   ],
   "source": [
    "df_raw.dtypes"
   ]
  },
  {
   "cell_type": "code",
   "execution_count": 5,
   "id": "396f1a3c",
   "metadata": {},
   "outputs": [
    {
     "data": {
      "text/plain": [
       "Y    284548\n",
       "N    121875\n",
       "Name: IsStatBarred, dtype: int64"
      ]
     },
     "execution_count": 5,
     "metadata": {},
     "output_type": "execute_result"
    }
   ],
   "source": [
    "# If target variable is evenly distributed between 0 and 1, then it is a balanced dataset.\n",
    "df_raw['IsStatBarred'].value_counts()"
   ]
  },
  {
   "cell_type": "code",
   "execution_count": 6,
   "id": "4ec8e636",
   "metadata": {},
   "outputs": [
    {
     "data": {
      "image/png": "[encoded data removed]",
      "text/plain": [
       "<Figure size 432x288 with 1 Axes>"
      ]
     },
     "metadata": {
      "needs_background": "light"
     },
     "output_type": "display_data"
    }
   ],
   "source": [
    "#Analyzing the is target variable balance or not?\n",
    "df_raw['IsStatBarred'].value_counts().plot(kind='bar')\n",
    "\n",
    "plt.title('Target feature balance')\n",
    "\n",
    "plt.xlabel('Target feature values')\n",
    "plt.ylabel('Count of values available per label')\n",
    "\n",
    "plt.show()"
   ]
  },
  {
   "cell_type": "code",
   "execution_count": 7,
   "id": "eb31ace4",
   "metadata": {},
   "outputs": [
    {
     "data": {
      "text/plain": [
       "EntityID                           0\n",
       "OriginalCreditor[Redacted]         0\n",
       "AccountID                          0\n",
       "CurrentBalance                     0\n",
       "DebtLoadPrincipal                  0\n",
       "BalanceAtDebtLoad                  0\n",
       "PurchasePrice                   2692\n",
       "ProductOrDebtType                  0\n",
       "CollectionStatus                   0\n",
       "IsStatBarred                       0\n",
       "ClosureReason                 397393\n",
       "InBankruptcy                       0\n",
       "AccountInsolvencyType         406138\n",
       "CustomerInsolvencyType        397892\n",
       "IsLegal                            0\n",
       "LastPaymentAmount             302446\n",
       "LastPaymentMethod             302446\n",
       "NumLiableParties                 122\n",
       "CustomerAge                    29482\n",
       "NumPhones                          0\n",
       "NumEmails                          0\n",
       "NumAddresses                       0\n",
       "Unnamed: 22                   406423\n",
       "Unnamed: 23                   406423\n",
       "Unnamed: 24                   406423\n",
       "Unnamed: 25                   406422\n",
       "dtype: int64"
      ]
     },
     "execution_count": 7,
     "metadata": {},
     "output_type": "execute_result"
    }
   ],
   "source": [
    "# Check null Values\n",
    "df_raw.isnull().sum()"
   ]
  },
  {
   "cell_type": "code",
   "execution_count": 8,
   "id": "66f2f356",
   "metadata": {},
   "outputs": [],
   "source": [
    "# Data Preprocessing\n",
    "\n",
    "# Preprocessing step: Dropping 'AccountInsolvencyType' column since 99% of values present are null.\n",
    "df_raw = df_raw.drop(['AccountInsolvencyType'], axis = 1)\n",
    "\n",
    "# Preprocessing step: Dropping 'CustomerInsolvencyType' column since 99% of values present are null.\n",
    "df_raw = df_raw.drop(['CustomerInsolvencyType'], axis = 1)\n",
    "\n",
    "# Preprocessing step: Dropping 'ClosureReason' column since 99% of values present are null.\n",
    "df_raw = df_raw.drop(['ClosureReason'], axis = 1)\n",
    "\n",
    "# Preprocessing step: Dropping 'LastPaymentAmount' column since 99% of values present are null.\n",
    "df_raw = df_raw.drop(['LastPaymentAmount'], axis = 1)\n",
    "\n",
    "# Preprocessing step: Dropping 'LastPaymentAmount' column since 99% of values present are null.\n",
    "df_raw = df_raw.drop(['LastPaymentMethod'], axis = 1)\n",
    "\n",
    "# Preprocessing step: Dropping 'Unnamed: 22' column since all values present are null.\n",
    "df_raw = df_raw.drop(['Unnamed: 22'], axis = 1)\n",
    "\n",
    "# Preprocessing step: Dropping 'Unnamed: 23' column since all values present are null.\n",
    "df_raw = df_raw.drop(['Unnamed: 23'], axis = 1)\n",
    "\n",
    "# Preprocessing step: Dropping 'Unnamed: 24' column since all values present are null.\n",
    "df_raw = df_raw.drop(['Unnamed: 24'], axis = 1)\n",
    "\n",
    "# Preprocessing step: Dropping 'Unnamed: 25' column since all values present are null.\n",
    "df_raw = df_raw.drop(['Unnamed: 25'], axis = 1)\n",
    "\n",
    "\n",
    "\n",
    "\n",
    "\n",
    "\n"
   ]
  },
  {
   "cell_type": "code",
   "execution_count": 9,
   "id": "a104541c",
   "metadata": {},
   "outputs": [
    {
     "data": {
      "text/plain": [
       "EntityID                          0\n",
       "OriginalCreditor[Redacted]        0\n",
       "AccountID                         0\n",
       "CurrentBalance                    0\n",
       "DebtLoadPrincipal                 0\n",
       "BalanceAtDebtLoad                 0\n",
       "PurchasePrice                  2692\n",
       "ProductOrDebtType                 0\n",
       "CollectionStatus                  0\n",
       "IsStatBarred                      0\n",
       "InBankruptcy                      0\n",
       "IsLegal                           0\n",
       "NumLiableParties                122\n",
       "CustomerAge                   29482\n",
       "NumPhones                         0\n",
       "NumEmails                         0\n",
       "NumAddresses                      0\n",
       "dtype: int64"
      ]
     },
     "execution_count": 9,
     "metadata": {},
     "output_type": "execute_result"
    }
   ],
   "source": [
    "# Check null Values\n",
    "df_raw.isnull().sum()"
   ]
  },
  {
   "cell_type": "code",
   "execution_count": 10,
   "id": "03fe07e7",
   "metadata": {},
   "outputs": [
    {
     "data": {
      "text/plain": [
       "<AxesSubplot:xlabel='CustomerAge'>"
      ]
     },
     "execution_count": 10,
     "metadata": {},
     "output_type": "execute_result"
    },
    {
     "data": {
      "image/png": "[encoded data removed]",
      "text/plain": [
       "<Figure size 720x432 with 1 Axes>"
      ]
     },
     "metadata": {
      "needs_background": "light"
     },
     "output_type": "display_data"
    },
    {
     "data": {
      "image/png": "[encoded data removed]",
      "text/plain": [
       "<Figure size 720x432 with 1 Axes>"
      ]
     },
     "metadata": {
      "needs_background": "light"
     },
     "output_type": "display_data"
    },
    {
     "data": {
      "image/png": "[encoded data removed]",
      "text/plain": [
       "<Figure size 720x432 with 1 Axes>"
      ]
     },
     "metadata": {
      "needs_background": "light"
     },
     "output_type": "display_data"
    }
   ],
   "source": [
    "## Checking Outliers and Skewness\n",
    "\n",
    "import seaborn as sns\n",
    "# Imputation of null values\n",
    "fig,ax=plt.subplots(figsize=(10,6))\n",
    "sns.boxplot(df_raw.PurchasePrice)\n",
    "\n",
    "fig,ax=plt.subplots(figsize=(10,6))\n",
    "sns.boxplot(df_raw.NumLiableParties)\n",
    "\n",
    "fig,ax=plt.subplots(figsize=(10,6))\n",
    "sns.boxplot(df_raw.CustomerAge)"
   ]
  },
  {
   "cell_type": "code",
   "execution_count": 11,
   "id": "9ec6c954",
   "metadata": {},
   "outputs": [
    {
     "data": {
      "text/plain": [
       "<AxesSubplot:xlabel='CustomerAge', ylabel='Density'>"
      ]
     },
     "execution_count": 11,
     "metadata": {},
     "output_type": "execute_result"
    },
    {
     "data": {
      "image/png": "[encoded data removed]",
      "text/plain": [
       "<Figure size 720x576 with 1 Axes>"
      ]
     },
     "metadata": {
      "needs_background": "light"
     },
     "output_type": "display_data"
    },
    {
     "data": {
      "image/png": "[encoded data removed]",
      "text/plain": [
       "<Figure size 720x576 with 1 Axes>"
      ]
     },
     "metadata": {
      "needs_background": "light"
     },
     "output_type": "display_data"
    },
    {
     "data": {
      "image/png": "[encoded data removed]",
      "text/plain": [
       "<Figure size 720x576 with 1 Axes>"
      ]
     },
     "metadata": {
      "needs_background": "light"
     },
     "output_type": "display_data"
    }
   ],
   "source": [
    "fig,ax=plt.subplots(figsize=(10,8))\n",
    "sns.distplot(df_raw.PurchasePrice)\n",
    "\n",
    "fig,ax=plt.subplots(figsize=(10,8))\n",
    "sns.distplot(df_raw.NumLiableParties)\n",
    "\n",
    "fig,ax=plt.subplots(figsize=(10,8))\n",
    "sns.distplot(df_raw.CustomerAge)"
   ]
  },
  {
   "cell_type": "code",
   "execution_count": 12,
   "id": "06e96893",
   "metadata": {},
   "outputs": [],
   "source": [
    "# Impute null values with mode\n",
    "\n",
    "df_raw['PurchasePrice'] = df_raw['PurchasePrice'].fillna(df_raw['PurchasePrice'].mode()[0])\n",
    "\n",
    "df_raw['NumLiableParties'] = df_raw['NumLiableParties'].fillna(df_raw['NumLiableParties'].mode()[0])\n",
    "\n",
    "df_raw['CustomerAge'] = df_raw['CustomerAge'].fillna(df_raw['CustomerAge'].mode()[0])"
   ]
  },
  {
   "cell_type": "code",
   "execution_count": 13,
   "id": "0c74bb2a",
   "metadata": {},
   "outputs": [
    {
     "data": {
      "text/plain": [
       "EntityID                      0\n",
       "OriginalCreditor[Redacted]    0\n",
       "AccountID                     0\n",
       "CurrentBalance                0\n",
       "DebtLoadPrincipal             0\n",
       "BalanceAtDebtLoad             0\n",
       "PurchasePrice                 0\n",
       "ProductOrDebtType             0\n",
       "CollectionStatus              0\n",
       "IsStatBarred                  0\n",
       "InBankruptcy                  0\n",
       "IsLegal                       0\n",
       "NumLiableParties              0\n",
       "CustomerAge                   0\n",
       "NumPhones                     0\n",
       "NumEmails                     0\n",
       "NumAddresses                  0\n",
       "dtype: int64"
      ]
     },
     "execution_count": 13,
     "metadata": {},
     "output_type": "execute_result"
    }
   ],
   "source": [
    "# Check null Values\n",
    "df_raw.isnull().sum()"
   ]
  },
  {
   "cell_type": "code",
   "execution_count": 14,
   "id": "b6686d29",
   "metadata": {},
   "outputs": [
    {
     "data": {
      "image/png": "[encoded data removed]",
      "text/plain": [
       "<Figure size 1800x1440 with 2 Axes>"
      ]
     },
     "metadata": {
      "needs_background": "light"
     },
     "output_type": "display_data"
    }
   ],
   "source": [
    "#Checking features correlation\n",
    "\n",
    "# Checking the correlation between features.\n",
    "mask_raw = np.zeros_like(df_raw.corr(), dtype=np.bool)\n",
    "\n",
    "fig, axis = plt.subplots(figsize=(25,20))\n",
    "\n",
    "heatmap_raw = sns_raw.heatmap(df_raw.corr(), \n",
    "                      mask = mask_raw,\n",
    "                      cmap = 'coolwarm',\n",
    "                      square = True,\n",
    "                      linewidths = .6,\n",
    "                      cbar_kws = {'shrink': .6, \n",
    "                                'ticks' : [-1, -.75,-.5,-.25, 0, .25, 0.5, 0.75, 1]},\n",
    "                      vmax = 1,\n",
    "                      annot = True,\n",
    "                      annot_kws = {\"size\": 12})\n",
    "\n",
    "axis.set_xticklabels(df_raw.corr().columns)\n",
    "axis.set_yticklabels(df_raw.corr().columns, rotation = 0)\n",
    "\n",
    "\n",
    "sns_raw.set_style({'xtick.bottom': True}, {'ytick.left': True})\n",
    "plt.tight_layout()"
   ]
  },
  {
   "cell_type": "code",
   "execution_count": 15,
   "id": "6db212e8",
   "metadata": {},
   "outputs": [],
   "source": [
    "###Convert Catagorical column to Numerical\n",
    "df_raw.rename(columns={'OriginalCreditor[Redacted]':'Creditor'},inplace=True)\n",
    "df_raw['Creditor']=df_raw['Creditor'].str.replace('Creditor',\"\",regex=True)\n",
    "df_raw['Creditor']=pd.to_numeric(df_raw['Creditor'])\n",
    "\n"
   ]
  },
  {
   "cell_type": "code",
   "execution_count": 16,
   "id": "b28e6fac",
   "metadata": {},
   "outputs": [
    {
     "data": {
      "text/plain": [
       "array([5, 6, 9, 2, 4, 1, 8, 0, 3, 7])"
      ]
     },
     "execution_count": 16,
     "metadata": {},
     "output_type": "execute_result"
    }
   ],
   "source": [
    "## Apply Label Encoding to Convert Catagorical column to Numerical\n",
    "from sklearn import preprocessing \n",
    "label_encoder = preprocessing.LabelEncoder() \n",
    "  \n",
    "# Encode labels in column 'ProductOrDebtType'. \n",
    "df_raw['ProductOrDebtType']= label_encoder.fit_transform(df_raw['ProductOrDebtType']) \n",
    "  \n",
    "df_raw['ProductOrDebtType'].unique() "
   ]
  },
  {
   "cell_type": "code",
   "execution_count": 17,
   "id": "e9e0ff20",
   "metadata": {},
   "outputs": [
    {
     "data": {
      "text/plain": [
       "array([ 7,  1,  8,  2,  0, 10, 11,  4,  5,  6,  3,  9])"
      ]
     },
     "execution_count": 17,
     "metadata": {},
     "output_type": "execute_result"
    }
   ],
   "source": [
    "# Encode labels in column 'ProductOrDebtType'. \n",
    "df_raw['CollectionStatus']= label_encoder.fit_transform(df_raw['CollectionStatus']) \n",
    "  \n",
    "df_raw['CollectionStatus'].unique() "
   ]
  },
  {
   "cell_type": "code",
   "execution_count": 18,
   "id": "41e50583",
   "metadata": {},
   "outputs": [],
   "source": [
    "## Replace String Values to Numerical\n",
    "df_raw['InBankruptcy'].replace(\"N\", 0, inplace = True)\n",
    "df_raw['InBankruptcy'].replace(\"Y\", 1, inplace = True)"
   ]
  },
  {
   "cell_type": "code",
   "execution_count": 19,
   "id": "9eccc2d7",
   "metadata": {},
   "outputs": [],
   "source": [
    "df_raw['IsLegal'].replace(\"N\", 0, inplace = True)\n",
    "df_raw['IsLegal'].replace(\"Y\", 1, inplace = True)"
   ]
  },
  {
   "cell_type": "code",
   "execution_count": 20,
   "id": "91bfd2de",
   "metadata": {},
   "outputs": [],
   "source": [
    "df_raw['IsStatBarred'].replace(\"N\", 0, inplace = True)\n",
    "df_raw['IsStatBarred'].replace(\"Y\", 1, inplace = True)"
   ]
  },
  {
   "cell_type": "code",
   "execution_count": 21,
   "id": "4e7fa2c4",
   "metadata": {},
   "outputs": [],
   "source": [
    "df_final = df_raw"
   ]
  },
  {
   "cell_type": "code",
   "execution_count": 22,
   "id": "4b65a9a9",
   "metadata": {},
   "outputs": [
    {
     "data": {
      "text/html": [
       "<div>\n",
       "<style scoped>\n",
       "    .dataframe tbody tr th:only-of-type {\n",
       "        vertical-align: middle;\n",
       "    }\n",
       "\n",
       "    .dataframe tbody tr th {\n",
       "        vertical-align: top;\n",
       "    }\n",
       "\n",
       "    .dataframe thead th {\n",
       "        text-align: right;\n",
       "    }\n",
       "</style>\n",
       "<table border=\"1\" class=\"dataframe\">\n",
       "  <thead>\n",
       "    <tr style=\"text-align: right;\">\n",
       "      <th></th>\n",
       "      <th>EntityID</th>\n",
       "      <th>Creditor</th>\n",
       "      <th>AccountID</th>\n",
       "      <th>CurrentBalance</th>\n",
       "      <th>DebtLoadPrincipal</th>\n",
       "      <th>BalanceAtDebtLoad</th>\n",
       "      <th>PurchasePrice</th>\n",
       "      <th>ProductOrDebtType</th>\n",
       "      <th>CollectionStatus</th>\n",
       "      <th>IsStatBarred</th>\n",
       "      <th>InBankruptcy</th>\n",
       "      <th>IsLegal</th>\n",
       "      <th>NumLiableParties</th>\n",
       "      <th>CustomerAge</th>\n",
       "      <th>NumPhones</th>\n",
       "      <th>NumEmails</th>\n",
       "      <th>NumAddresses</th>\n",
       "    </tr>\n",
       "  </thead>\n",
       "  <tbody>\n",
       "    <tr>\n",
       "      <th>0</th>\n",
       "      <td>932</td>\n",
       "      <td>1</td>\n",
       "      <td>3677</td>\n",
       "      <td>0.0</td>\n",
       "      <td>1160.20</td>\n",
       "      <td>1160.20</td>\n",
       "      <td>4.22</td>\n",
       "      <td>5</td>\n",
       "      <td>7</td>\n",
       "      <td>0</td>\n",
       "      <td>0</td>\n",
       "      <td>1</td>\n",
       "      <td>1.0</td>\n",
       "      <td>53.0</td>\n",
       "      <td>0</td>\n",
       "      <td>0</td>\n",
       "      <td>1</td>\n",
       "    </tr>\n",
       "    <tr>\n",
       "      <th>1</th>\n",
       "      <td>160</td>\n",
       "      <td>2</td>\n",
       "      <td>4276</td>\n",
       "      <td>182.9</td>\n",
       "      <td>182.90</td>\n",
       "      <td>182.90</td>\n",
       "      <td>4.22</td>\n",
       "      <td>5</td>\n",
       "      <td>1</td>\n",
       "      <td>1</td>\n",
       "      <td>0</td>\n",
       "      <td>0</td>\n",
       "      <td>1.0</td>\n",
       "      <td>38.0</td>\n",
       "      <td>0</td>\n",
       "      <td>0</td>\n",
       "      <td>1</td>\n",
       "    </tr>\n",
       "    <tr>\n",
       "      <th>2</th>\n",
       "      <td>932</td>\n",
       "      <td>1</td>\n",
       "      <td>8525</td>\n",
       "      <td>0.0</td>\n",
       "      <td>538.57</td>\n",
       "      <td>538.57</td>\n",
       "      <td>4.22</td>\n",
       "      <td>5</td>\n",
       "      <td>7</td>\n",
       "      <td>0</td>\n",
       "      <td>0</td>\n",
       "      <td>0</td>\n",
       "      <td>1.0</td>\n",
       "      <td>38.0</td>\n",
       "      <td>1</td>\n",
       "      <td>0</td>\n",
       "      <td>1</td>\n",
       "    </tr>\n",
       "    <tr>\n",
       "      <th>3</th>\n",
       "      <td>160</td>\n",
       "      <td>2</td>\n",
       "      <td>9859</td>\n",
       "      <td>8279.5</td>\n",
       "      <td>8279.50</td>\n",
       "      <td>8279.50</td>\n",
       "      <td>4.22</td>\n",
       "      <td>5</td>\n",
       "      <td>8</td>\n",
       "      <td>1</td>\n",
       "      <td>0</td>\n",
       "      <td>0</td>\n",
       "      <td>1.0</td>\n",
       "      <td>38.0</td>\n",
       "      <td>1</td>\n",
       "      <td>0</td>\n",
       "      <td>1</td>\n",
       "    </tr>\n",
       "    <tr>\n",
       "      <th>4</th>\n",
       "      <td>932</td>\n",
       "      <td>1</td>\n",
       "      <td>12807</td>\n",
       "      <td>0.0</td>\n",
       "      <td>523.00</td>\n",
       "      <td>523.00</td>\n",
       "      <td>4.22</td>\n",
       "      <td>5</td>\n",
       "      <td>7</td>\n",
       "      <td>1</td>\n",
       "      <td>0</td>\n",
       "      <td>1</td>\n",
       "      <td>1.0</td>\n",
       "      <td>46.0</td>\n",
       "      <td>2</td>\n",
       "      <td>0</td>\n",
       "      <td>1</td>\n",
       "    </tr>\n",
       "  </tbody>\n",
       "</table>\n",
       "</div>"
      ],
      "text/plain": [
       "   EntityID  Creditor  AccountID  CurrentBalance  DebtLoadPrincipal  \\\n",
       "0       932         1       3677             0.0            1160.20   \n",
       "1       160         2       4276           182.9             182.90   \n",
       "2       932         1       8525             0.0             538.57   \n",
       "3       160         2       9859          8279.5            8279.50   \n",
       "4       932         1      12807             0.0             523.00   \n",
       "\n",
       "   BalanceAtDebtLoad  PurchasePrice  ProductOrDebtType  CollectionStatus  \\\n",
       "0            1160.20           4.22                  5                 7   \n",
       "1             182.90           4.22                  5                 1   \n",
       "2             538.57           4.22                  5                 7   \n",
       "3            8279.50           4.22                  5                 8   \n",
       "4             523.00           4.22                  5                 7   \n",
       "\n",
       "   IsStatBarred  InBankruptcy  IsLegal  NumLiableParties  CustomerAge  \\\n",
       "0             0             0        1               1.0         53.0   \n",
       "1             1             0        0               1.0         38.0   \n",
       "2             0             0        0               1.0         38.0   \n",
       "3             1             0        0               1.0         38.0   \n",
       "4             1             0        1               1.0         46.0   \n",
       "\n",
       "   NumPhones  NumEmails  NumAddresses  \n",
       "0          0          0             1  \n",
       "1          0          0             1  \n",
       "2          1          0             1  \n",
       "3          1          0             1  \n",
       "4          2          0             1  "
      ]
     },
     "execution_count": 22,
     "metadata": {},
     "output_type": "execute_result"
    }
   ],
   "source": [
    "df_final.head()"
   ]
  },
  {
   "cell_type": "code",
   "execution_count": 23,
   "id": "ae93068e",
   "metadata": {},
   "outputs": [],
   "source": [
    "##Feature extration for machine learning classification.\n",
    "# Splitting features and target variables from dataframe.\n",
    "y = df_final['IsStatBarred']\n",
    "X = df_final.drop(['IsStatBarred'], axis = 1)"
   ]
  },
  {
   "cell_type": "code",
   "execution_count": 24,
   "id": "4a36d292",
   "metadata": {},
   "outputs": [
    {
     "data": {
      "text/plain": [
       "1    284548\n",
       "0    121875\n",
       "Name: IsStatBarred, dtype: int64"
      ]
     },
     "execution_count": 24,
     "metadata": {},
     "output_type": "execute_result"
    }
   ],
   "source": [
    "y.value_counts()"
   ]
  },
  {
   "cell_type": "code",
   "execution_count": 25,
   "id": "ce17a0b9",
   "metadata": {},
   "outputs": [],
   "source": [
    "# Train and Test split\n",
    "X_train, X_test, y_train, y_test = train_test_split(X, y, test_size=0.20, random_state=42)"
   ]
  },
  {
   "cell_type": "code",
   "execution_count": 26,
   "id": "1e9fb5e9",
   "metadata": {},
   "outputs": [],
   "source": [
    "# Applying scaling on feature variables\n",
    "scaler = MinMaxScaler()\n",
    "\n",
    "X_train = scaler.fit_transform(X_train)\n",
    "X_test = scaler.transform(X_test)"
   ]
  },
  {
   "cell_type": "code",
   "execution_count": 27,
   "id": "0ac3aa18",
   "metadata": {},
   "outputs": [
    {
     "data": {
      "text/plain": [
       "RandomForestClassifier()"
      ]
     },
     "execution_count": 27,
     "metadata": {},
     "output_type": "execute_result"
    }
   ],
   "source": [
    "#Random Forest Baseline Model\n",
    "#Random Forest Classifier model with Train and Test split \n",
    "clf_base = RandomForestClassifier()\n",
    "\n",
    "#Training the model\n",
    "clf_base.fit(X_train,y_train)"
   ]
  },
  {
   "cell_type": "code",
   "execution_count": 28,
   "id": "f8efad7b",
   "metadata": {},
   "outputs": [],
   "source": [
    "y_pred = clf_base.predict(X_test)"
   ]
  },
  {
   "cell_type": "code",
   "execution_count": 29,
   "id": "bf5e1485",
   "metadata": {},
   "outputs": [
    {
     "name": "stdout",
     "output_type": "stream",
     "text": [
      "RF Base line model accuracy: 97.52844928338563\n"
     ]
    }
   ],
   "source": [
    "# Random Forest baseline model accuracy\n",
    "print(\"RF Base line model accuracy:\", metrics.accuracy_score(y_test, y_pred)*100)"
   ]
  },
  {
   "cell_type": "code",
   "execution_count": 30,
   "id": "089068bc",
   "metadata": {},
   "outputs": [
    {
     "name": "stdout",
     "output_type": "stream",
     "text": [
      "              precision    recall  f1-score   support\n",
      "\n",
      "           0       0.97      0.95      0.96     24309\n",
      "           1       0.98      0.99      0.98     56976\n",
      "\n",
      "    accuracy                           0.98     81285\n",
      "   macro avg       0.97      0.97      0.97     81285\n",
      "weighted avg       0.98      0.98      0.98     81285\n",
      "\n"
     ]
    }
   ],
   "source": [
    "# Random Forest baseline classification report\n",
    "print(metrics.classification_report(y_test, y_pred))"
   ]
  },
  {
   "cell_type": "code",
   "execution_count": 31,
   "id": "9d7bad28",
   "metadata": {},
   "outputs": [
    {
     "name": "stdout",
     "output_type": "stream",
     "text": [
      "              precision    recall  f1-score   support\n",
      "\n",
      "           0       0.93      0.91      0.92     24309\n",
      "           1       0.96      0.97      0.96     56976\n",
      "\n",
      "    accuracy                           0.95     81285\n",
      "   macro avg       0.94      0.94      0.94     81285\n",
      "weighted avg       0.95      0.95      0.95     81285\n",
      "\n"
     ]
    }
   ],
   "source": [
    "## SVM Classifier SVM base model\n",
    "# train the model on train set\n",
    "model_base_SVM = SVC()\n",
    "model_base_SVM.fit(X_train, y_train)\n",
    " \n",
    "# print prediction results\n",
    "y_pred_base = model_base_SVM.predict(X_test)\n",
    "print(classification_report(y_test, y_pred_base))"
   ]
  },
  {
   "cell_type": "code",
   "execution_count": 32,
   "id": "c71a5aa7",
   "metadata": {},
   "outputs": [
    {
     "name": "stdout",
     "output_type": "stream",
     "text": [
      "SVM accuracy for testing dataset without hyper parameter tuning is : 95.03%\n"
     ]
    }
   ],
   "source": [
    "test_accuracy_svm_base = accuracy_score(y_test,y_pred_base)*100\n",
    "\n",
    "print(\"SVM accuracy for testing dataset without hyper parameter tuning is : {:.2f}%\".format(test_accuracy_svm_base) )"
   ]
  },
  {
   "cell_type": "code",
   "execution_count": 33,
   "id": "5eb5ba66",
   "metadata": {},
   "outputs": [
    {
     "data": {
      "text/plain": [
       "LogisticRegression()"
      ]
     },
     "execution_count": 33,
     "metadata": {},
     "output_type": "execute_result"
    }
   ],
   "source": [
    "##Logistic Regression Classifier\n",
    "#LR base model\n",
    "lr_base_clf = LogisticRegression()\n",
    "\n",
    "lr_base_clf.fit(X_train, y_train)"
   ]
  },
  {
   "cell_type": "code",
   "execution_count": 34,
   "id": "64762ac3",
   "metadata": {},
   "outputs": [
    {
     "name": "stdout",
     "output_type": "stream",
     "text": [
      "LR base model accuracy: 82.03112505382298\n"
     ]
    }
   ],
   "source": [
    "# make predictions for test data\n",
    "y_pred_lr_base = lr_base_clf.predict(X_test)\n",
    "\n",
    "# LR base model accuracy\n",
    "print(\"LR base model accuracy:\", metrics.accuracy_score(y_test, y_pred_lr_base)*100)"
   ]
  },
  {
   "cell_type": "code",
   "execution_count": 35,
   "id": "bc9d5e10",
   "metadata": {},
   "outputs": [
    {
     "name": "stdout",
     "output_type": "stream",
     "text": [
      "              precision    recall  f1-score   support\n",
      "\n",
      "           0       0.77      0.57      0.66     24309\n",
      "           1       0.84      0.93      0.88     56976\n",
      "\n",
      "    accuracy                           0.82     81285\n",
      "   macro avg       0.80      0.75      0.77     81285\n",
      "weighted avg       0.82      0.82      0.81     81285\n",
      "\n"
     ]
    }
   ],
   "source": [
    "# Logistic Regression base model classification report\n",
    "print(classification_report(y_test, y_pred_lr_base))"
   ]
  },
  {
   "cell_type": "markdown",
   "id": "91cc5047",
   "metadata": {},
   "source": [
    "Result- Random Forest base line model accuracy is better than other classifiers and it is 97.52%"
   ]
  }
 ],
 "metadata": {
  "kernelspec": {
   "display_name": "Python 3 (ipykernel)",
   "language": "python",
   "name": "python3"
  },
  "language_info": {
   "codemirror_mode": {
    "name": "ipython",
    "version": 3
   },
   "file_extension": ".py",
   "mimetype": "text/x-python",
   "name": "python",
   "nbconvert_exporter": "python",
   "pygments_lexer": "ipython3",
   "version": "3.9.12"
  }
 },
 "nbformat": 4,
 "nbformat_minor": 5
}
